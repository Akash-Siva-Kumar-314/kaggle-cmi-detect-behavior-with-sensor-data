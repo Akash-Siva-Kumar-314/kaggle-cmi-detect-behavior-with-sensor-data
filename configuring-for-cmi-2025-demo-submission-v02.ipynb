{
 "cells": [
  {
   "cell_type": "code",
   "execution_count": null,
   "metadata": {},
   "outputs": [],
   "source": [
    "# Now this is the code made for Kaggle environment, won't run in local."
   ]
  },
  {
   "cell_type": "code",
   "execution_count": 1,
   "metadata": {
    "_cell_guid": "b1076dfc-b9ad-4769-8c92-a6c4dae69d19",
    "_uuid": "8f2839f25d086af736a60e9eeb907d3b93b6e0e5",
    "execution": {
     "iopub.execute_input": "2025-07-28T15:21:22.607576Z",
     "iopub.status.busy": "2025-07-28T15:21:22.607290Z",
     "iopub.status.idle": "2025-07-28T15:21:25.831647Z",
     "shell.execute_reply": "2025-07-28T15:21:25.830662Z",
     "shell.execute_reply.started": "2025-07-28T15:21:22.607549Z"
    }
   },
   "outputs": [],
   "source": [
    "import os\n",
    "\n",
    "import pandas as pd\n",
    "import polars as pl\n",
    "\n",
    "import kaggle_evaluation.cmi_inference_server"
   ]
  },
  {
   "cell_type": "code",
   "execution_count": 2,
   "metadata": {
    "execution": {
     "iopub.execute_input": "2025-07-28T15:21:25.834111Z",
     "iopub.status.busy": "2025-07-28T15:21:25.833657Z",
     "iopub.status.idle": "2025-07-28T15:21:26.459491Z",
     "shell.execute_reply": "2025-07-28T15:21:26.458579Z",
     "shell.execute_reply.started": "2025-07-28T15:21:25.834085Z"
    }
   },
   "outputs": [],
   "source": [
    "# Importing needed libraries\n",
    "import numpy as np\n",
    "import pandas as pd\n",
    "import sklearn as sk"
   ]
  },
  {
   "cell_type": "markdown",
   "metadata": {
    "execution": {
     "iopub.execute_input": "2025-05-29T22:29:18.956193Z",
     "iopub.status.busy": "2025-05-29T22:29:18.955791Z",
     "iopub.status.idle": "2025-05-29T22:29:18.965179Z",
     "shell.execute_reply": "2025-05-29T22:29:18.963797Z",
     "shell.execute_reply.started": "2025-05-29T22:29:18.956169Z"
    }
   },
   "source": [
    "The evaluation API requires that you set up a server which will respond to inference requests. We have already defined the server; you just need write the predict function. When we evaluate your submission on the hidden test set the client defined in the gateway will run in a different container with direct access to the hidden test set and hand off the one sequence at a time.\n",
    "\n",
    "Your code will always have access to the published copies of the files."
   ]
  },
  {
   "cell_type": "code",
   "execution_count": 3,
   "metadata": {
    "execution": {
     "iopub.execute_input": "2025-07-28T15:21:26.460993Z",
     "iopub.status.busy": "2025-07-28T15:21:26.460470Z",
     "iopub.status.idle": "2025-07-28T15:21:26.469818Z",
     "shell.execute_reply": "2025-07-28T15:21:26.469060Z",
     "shell.execute_reply.started": "2025-07-28T15:21:26.460967Z"
    }
   },
   "outputs": [
    {
     "data": {
      "text/plain": [
       "\"\\ndef predict(sequence: pl.DataFrame, demographics: pl.DataFrame) -> str:\\n    # Replace this function with your inference code.\\n    # You can return either a Pandas or Polars dataframe, though Polars is recommended.\\n    # Each prediction (except the very first) must be returned within 30 minutes of the batch features being provided.\\n    return 'Text on phone'\\n\""
      ]
     },
     "execution_count": 3,
     "metadata": {},
     "output_type": "execute_result"
    }
   ],
   "source": [
    "'''\n",
    "def predict(sequence: pl.DataFrame, demographics: pl.DataFrame) -> str:\n",
    "    # Replace this function with your inference code.\n",
    "    # You can return either a Pandas or Polars dataframe, though Polars is recommended.\n",
    "    # Each prediction (except the very first) must be returned within 30 minutes of the batch features being provided.\n",
    "    return 'Text on phone'\n",
    "'''"
   ]
  },
  {
   "cell_type": "code",
   "execution_count": 4,
   "metadata": {
    "execution": {
     "iopub.execute_input": "2025-07-28T15:21:26.471300Z",
     "iopub.status.busy": "2025-07-28T15:21:26.470969Z",
     "iopub.status.idle": "2025-07-28T15:21:26.489637Z",
     "shell.execute_reply": "2025-07-28T15:21:26.488421Z",
     "shell.execute_reply.started": "2025-07-28T15:21:26.471270Z"
    }
   },
   "outputs": [],
   "source": [
    "# Here first row from test data is taken and prediction returned, \n",
    "# the second time the funtion is called the second row of test data is taken and prediction returned and so on.\n",
    "\n",
    "# Global counter to keep track of which test row to use\n",
    "current_test_index = 0\n",
    "\n",
    "def predict(sequence: pl.DataFrame, demographics: pl.DataFrame) -> str:\n",
    "    global current_test_index\n",
    "    \n",
    "    # Loading the CSV file\n",
    "    file_path = '/kaggle/input/cmi-detect-behavior-with-sensor-data/train.csv'\n",
    "    \n",
    "    # Reading the CSV file\n",
    "    df_original_data = pd.read_csv(file_path)\n",
    "\n",
    "    # Display the first few rows of the dataframe, we will be doing this as checking step every step along the way\n",
    "    #df_original_data.head()\n",
    "\n",
    "    # Checking number of null values in each column\n",
    "    #df_original_data.isnull().sum()\n",
    "\n",
    "    # Defining feature and target\n",
    "    A = df_original_data.iloc[:, 9:].values\n",
    "    b = df_original_data.iloc[:, 8].values\n",
    "\n",
    "    #print(A)\n",
    "    #print(b)\n",
    "\n",
    "    # Now the feature column has some null values - imputing them with a constant value Zero    \n",
    "    # Replace NaNs with 0\n",
    "    A = df_original_data.iloc[:, 9:].values\n",
    "    A = np.nan_to_num(A, nan=0)\n",
    "    #print(A[:5])  # Display first 5 rows\n",
    "\n",
    "    # Scaling\n",
    "    from sklearn.preprocessing import StandardScaler\n",
    "    sc = StandardScaler()\n",
    "    A_train_s = sc.fit_transform(A)\n",
    "\n",
    "    # Instead of test train split, using whole of the data to train our model.\n",
    "\n",
    "    # Fitting KNN to the training set\n",
    "\n",
    "    from sklearn.neighbors import KNeighborsClassifier\n",
    "    classifier = KNeighborsClassifier(n_neighbors = 5, metric = 'minkowski', p = 2)\n",
    "    classifier.fit(A_train_s, b)\n",
    "\n",
    "    # Importing the testing data \n",
    "\n",
    "    # Loading the CSV file\n",
    "    file_path_test = '/kaggle/input/cmi-detect-behavior-with-sensor-data/test.csv'\n",
    "    \n",
    "    # Reading the CSV file\n",
    "    df_original_test_data = pd.read_csv(file_path_test)\n",
    "\n",
    "    # Display the first few rows of the dataframe, we will be doing this as checking step every step along the way\n",
    "    #df_original_test_data.head()\n",
    "\n",
    "    # Only taking needed columns from test data, and the needed row\n",
    "    original_test_data = df_original_test_data.iloc[current_test_index, 4:].values\n",
    "    current_test_index += 1 # To update the row value, when the funtion is called next time\n",
    "    print(current_test_index)\n",
    "    # Reshape is done coz above code gives a 1D shape while the input for next is a 2D shape, just a small tweak.\n",
    "    original_test_data = original_test_data.reshape(1, -1)\n",
    "    #print(original_test_data)\n",
    "\n",
    "    # Predicting the test set - results\n",
    "    y_pred = classifier.predict(original_test_data)\n",
    "    #print(y_pred)\n",
    "\n",
    "    y_pred_string = str(y_pred[0]) # Converting the return value to a string.\n",
    "    print(y_pred_string)\n",
    "    \n",
    "    print('Checkpoint 1 ~ Akash')\n",
    "    return y_pred_string\n",
    "\n",
    "    # ~ End of code."
   ]
  },
  {
   "cell_type": "code",
   "execution_count": 5,
   "metadata": {
    "execution": {
     "iopub.execute_input": "2025-07-28T15:21:26.491368Z",
     "iopub.status.busy": "2025-07-28T15:21:26.490975Z",
     "iopub.status.idle": "2025-07-28T15:21:26.513676Z",
     "shell.execute_reply": "2025-07-28T15:21:26.512774Z",
     "shell.execute_reply.started": "2025-07-28T15:21:26.491335Z"
    }
   },
   "outputs": [
    {
     "data": {
      "text/plain": [
       "\"\\ninference_server = kaggle_evaluation.cmi_inference_server.CMIInferenceServer(predict)\\n\\nif os.getenv('KAGGLE_IS_COMPETITION_RERUN'):\\n    inference_server.serve()\\nelse:\\n    inference_server.run_local_gateway(\\n        data_paths=(\\n            '/kaggle/input/cmi-detect-behavior-with-sensor-data/test.csv',\\n            '/kaggle/input/cmi-detect-behavior-with-sensor-data/test_demographics.csv',\\n        )\\n    )\\n\""
      ]
     },
     "execution_count": 5,
     "metadata": {},
     "output_type": "execute_result"
    }
   ],
   "source": [
    "'''\n",
    "inference_server = kaggle_evaluation.cmi_inference_server.CMIInferenceServer(predict)\n",
    "\n",
    "if os.getenv('KAGGLE_IS_COMPETITION_RERUN'):\n",
    "    inference_server.serve()\n",
    "else:\n",
    "    inference_server.run_local_gateway(\n",
    "        data_paths=(\n",
    "            '/kaggle/input/cmi-detect-behavior-with-sensor-data/test.csv',\n",
    "            '/kaggle/input/cmi-detect-behavior-with-sensor-data/test_demographics.csv',\n",
    "        )\n",
    "    )\n",
    "'''"
   ]
  },
  {
   "cell_type": "code",
   "execution_count": null,
   "metadata": {
    "execution": {
     "execution_failed": "2025-07-28T16:58:33.402Z",
     "iopub.execute_input": "2025-07-28T15:21:26.514995Z",
     "iopub.status.busy": "2025-07-28T15:21:26.514722Z"
    }
   },
   "outputs": [
    {
     "name": "stdout",
     "output_type": "stream",
     "text": [
      "107\n",
      "Checkpoint 2.5 ~ Akash\n",
      "1\n",
      "Wave hello\n",
      "Checkpoint 1 ~ Akash\n",
      "2\n",
      "Wave hello\n",
      "Checkpoint 1 ~ Akash\n",
      "Checkpoint 3 ~ Akash\n",
      "Checkpoint 2.5 ~ Akash\n",
      "3\n",
      "Wave hello\n",
      "Checkpoint 1 ~ Akash\n",
      "4\n",
      "Wave hello\n",
      "Checkpoint 1 ~ Akash\n",
      "Checkpoint 3 ~ Akash\n",
      "Checkpoint 2.5 ~ Akash\n",
      "5\n",
      "Wave hello\n",
      "Checkpoint 1 ~ Akash\n",
      "6\n",
      "Wave hello\n",
      "Checkpoint 1 ~ Akash\n",
      "Checkpoint 3 ~ Akash\n",
      "Checkpoint 2.5 ~ Akash\n",
      "7\n",
      "Wave hello\n",
      "Checkpoint 1 ~ Akash\n",
      "8\n",
      "Wave hello\n",
      "Checkpoint 1 ~ Akash\n",
      "Checkpoint 3 ~ Akash\n",
      "Checkpoint 2.5 ~ Akash\n",
      "9\n",
      "Wave hello\n",
      "Checkpoint 1 ~ Akash\n",
      "10\n",
      "Cheek - pinch skin\n",
      "Checkpoint 1 ~ Akash\n",
      "Checkpoint 3 ~ Akash\n",
      "Checkpoint 2.5 ~ Akash\n",
      "11\n",
      "Wave hello\n",
      "Checkpoint 1 ~ Akash\n",
      "12\n",
      "Wave hello\n",
      "Checkpoint 1 ~ Akash\n",
      "Checkpoint 3 ~ Akash\n",
      "Checkpoint 2.5 ~ Akash\n",
      "13\n",
      "Wave hello\n",
      "Checkpoint 1 ~ Akash\n",
      "14\n",
      "Wave hello\n",
      "Checkpoint 1 ~ Akash\n",
      "Checkpoint 3 ~ Akash\n",
      "Checkpoint 2.5 ~ Akash\n",
      "15\n",
      "Cheek - pinch skin\n",
      "Checkpoint 1 ~ Akash\n",
      "16\n",
      "Cheek - pinch skin\n",
      "Checkpoint 1 ~ Akash\n",
      "Checkpoint 3 ~ Akash\n",
      "Checkpoint 2.5 ~ Akash\n",
      "17\n",
      "Cheek - pinch skin\n",
      "Checkpoint 1 ~ Akash\n",
      "18\n",
      "Cheek - pinch skin\n",
      "Checkpoint 1 ~ Akash\n",
      "Checkpoint 3 ~ Akash\n",
      "Checkpoint 2.5 ~ Akash\n",
      "19\n",
      "Cheek - pinch skin\n",
      "Checkpoint 1 ~ Akash\n",
      "20\n",
      "Cheek - pinch skin\n",
      "Checkpoint 1 ~ Akash\n",
      "Checkpoint 3 ~ Akash\n",
      "Checkpoint 2.5 ~ Akash\n",
      "21\n",
      "Cheek - pinch skin\n",
      "Checkpoint 1 ~ Akash\n",
      "22\n",
      "Cheek - pinch skin\n",
      "Checkpoint 1 ~ Akash\n",
      "Checkpoint 3 ~ Akash\n",
      "Checkpoint 2.5 ~ Akash\n",
      "23\n",
      "Cheek - pinch skin\n",
      "Checkpoint 1 ~ Akash\n",
      "24\n",
      "Cheek - pinch skin\n",
      "Checkpoint 1 ~ Akash\n",
      "Checkpoint 3 ~ Akash\n",
      "Checkpoint 2.5 ~ Akash\n",
      "25\n",
      "Cheek - pinch skin\n",
      "Checkpoint 1 ~ Akash\n",
      "26\n",
      "Cheek - pinch skin\n",
      "Checkpoint 1 ~ Akash\n",
      "Checkpoint 3 ~ Akash\n",
      "Checkpoint 2.5 ~ Akash\n"
     ]
    },
    {
     "name": "stderr",
     "output_type": "stream",
     "text": [
      "/kaggle/input/cmi-detect-behavior-with-sensor-data/kaggle_evaluation/core/templates.py:136: RuntimeWarning: 926 seconds elapsed before server startup.\n",
      "                This exceeds the startup time limit of 900 seconds that the gateway will enforce\n",
      "                during the rerun on the hidden test set. Start the server before performing any time consuming steps.\n",
      "  warnings.warn(\n"
     ]
    },
    {
     "name": "stdout",
     "output_type": "stream",
     "text": [
      "27\n",
      "Cheek - pinch skin\n",
      "Checkpoint 1 ~ Akash\n",
      "28\n",
      "Cheek - pinch skin\n",
      "Checkpoint 1 ~ Akash\n",
      "Checkpoint 3 ~ Akash\n",
      "Checkpoint 2.5 ~ Akash\n",
      "29\n",
      "Cheek - pinch skin\n",
      "Checkpoint 1 ~ Akash\n",
      "30\n",
      "Cheek - pinch skin\n",
      "Checkpoint 1 ~ Akash\n",
      "Checkpoint 3 ~ Akash\n",
      "Checkpoint 2.5 ~ Akash\n",
      "31\n",
      "Cheek - pinch skin\n",
      "Checkpoint 1 ~ Akash\n",
      "32\n",
      "Cheek - pinch skin\n",
      "Checkpoint 1 ~ Akash\n",
      "Checkpoint 3 ~ Akash\n",
      "Checkpoint 2.5 ~ Akash\n",
      "33\n",
      "Cheek - pinch skin\n",
      "Checkpoint 1 ~ Akash\n"
     ]
    }
   ],
   "source": [
    "# Loading the CSV file\n",
    "file_path_test = '/kaggle/input/cmi-detect-behavior-with-sensor-data/test.csv'\n",
    "    \n",
    "# Reading the CSV file\n",
    "df_original_test_data = pd.read_csv(file_path_test)\n",
    "\n",
    "# Get number of rows in test data\n",
    "num_rows = df_original_test_data.shape[0]\n",
    "print(num_rows)\n",
    "\n",
    "# Call predict() for each row\n",
    "for i in range(num_rows):    \n",
    "    inference_server = kaggle_evaluation.cmi_inference_server.CMIInferenceServer(predict)\n",
    "\n",
    "    if os.getenv('KAGGLE_IS_COMPETITION_RERUN'):\n",
    "        print('Checkpoint 2 ~ Akash')\n",
    "        inference_server.serve()\n",
    "    else:\n",
    "        print('Checkpoint 2.5 ~ Akash')\n",
    "        inference_server.run_local_gateway(\n",
    "            data_paths=(\n",
    "                '/kaggle/input/cmi-detect-behavior-with-sensor-data/test.csv',\n",
    "                '/kaggle/input/cmi-detect-behavior-with-sensor-data/test_demographics.csv',\n",
    "            )\n",
    "        )\n",
    "    print('Checkpoint 3 ~ Akash')"
   ]
  }
 ],
 "metadata": {
  "kaggle": {
   "accelerator": "none",
   "dataSources": [
    {
     "databundleVersionId": 12518947,
     "sourceId": 102335,
     "sourceType": "competition"
    }
   ],
   "dockerImageVersionId": 31040,
   "isGpuEnabled": false,
   "isInternetEnabled": false,
   "language": "python",
   "sourceType": "notebook"
  },
  "kernelspec": {
   "display_name": "Python 3 (ipykernel)",
   "language": "python",
   "name": "python3"
  },
  "language_info": {
   "codemirror_mode": {
    "name": "ipython",
    "version": 3
   },
   "file_extension": ".py",
   "mimetype": "text/x-python",
   "name": "python",
   "nbconvert_exporter": "python",
   "pygments_lexer": "ipython3",
   "version": "3.12.4"
  }
 },
 "nbformat": 4,
 "nbformat_minor": 4
}
