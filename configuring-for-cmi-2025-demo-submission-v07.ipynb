{
 "cells": [
  {
   "cell_type": "code",
   "execution_count": 1,
   "metadata": {
    "_cell_guid": "b1076dfc-b9ad-4769-8c92-a6c4dae69d19",
    "_uuid": "8f2839f25d086af736a60e9eeb907d3b93b6e0e5",
    "execution": {
     "iopub.execute_input": "2025-07-30T18:49:40.473744Z",
     "iopub.status.busy": "2025-07-30T18:49:40.473498Z",
     "iopub.status.idle": "2025-07-30T18:49:45.687500Z",
     "shell.execute_reply": "2025-07-30T18:49:45.686003Z",
     "shell.execute_reply.started": "2025-07-30T18:49:40.473722Z"
    }
   },
   "outputs": [],
   "source": [
    "import os\n",
    "\n",
    "import pandas as pd\n",
    "import polars as pl\n",
    "\n",
    "import kaggle_evaluation.cmi_inference_server\n",
    "\n",
    "import numpy as np\n",
    "import sklearn as sk"
   ]
  },
  {
   "cell_type": "markdown",
   "metadata": {
    "execution": {
     "iopub.execute_input": "2025-05-29T22:29:18.956193Z",
     "iopub.status.busy": "2025-05-29T22:29:18.955791Z",
     "iopub.status.idle": "2025-05-29T22:29:18.965179Z",
     "shell.execute_reply": "2025-05-29T22:29:18.963797Z",
     "shell.execute_reply.started": "2025-05-29T22:29:18.956169Z"
    }
   },
   "source": [
    "The evaluation API requires that you set up a server which will respond to inference requests. We have already defined the server; you just need write the predict function. When we evaluate your submission on the hidden test set the client defined in the gateway will run in a different container with direct access to the hidden test set and hand off the one sequence at a time.\n",
    "\n",
    "Your code will always have access to the published copies of the files."
   ]
  },
  {
   "cell_type": "code",
   "execution_count": 2,
   "metadata": {
    "execution": {
     "iopub.execute_input": "2025-07-30T18:49:45.690651Z",
     "iopub.status.busy": "2025-07-30T18:49:45.690044Z",
     "iopub.status.idle": "2025-07-30T18:49:45.700740Z",
     "shell.execute_reply": "2025-07-30T18:49:45.698998Z",
     "shell.execute_reply.started": "2025-07-30T18:49:45.690618Z"
    }
   },
   "outputs": [
    {
     "data": {
      "text/plain": [
       "\"\\ndef predict(sequence: pl.DataFrame, demographics: pl.DataFrame) -> str:\\n    # Replace this function with your inference code.\\n    # You can return either a Pandas or Polars dataframe, though Polars is recommended.\\n    # Each prediction (except the very first) must be returned within 30 minutes of the batch features being provided.\\n    return 'Text on phone'\\n\""
      ]
     },
     "execution_count": 2,
     "metadata": {},
     "output_type": "execute_result"
    }
   ],
   "source": [
    "'''\n",
    "def predict(sequence: pl.DataFrame, demographics: pl.DataFrame) -> str:\n",
    "    # Replace this function with your inference code.\n",
    "    # You can return either a Pandas or Polars dataframe, though Polars is recommended.\n",
    "    # Each prediction (except the very first) must be returned within 30 minutes of the batch features being provided.\n",
    "    return 'Text on phone'\n",
    "'''"
   ]
  },
  {
   "cell_type": "code",
   "execution_count": 3,
   "metadata": {
    "execution": {
     "iopub.execute_input": "2025-07-30T18:49:45.703491Z",
     "iopub.status.busy": "2025-07-30T18:49:45.702991Z",
     "iopub.status.idle": "2025-07-30T18:49:45.741266Z",
     "shell.execute_reply": "2025-07-30T18:49:45.739399Z",
     "shell.execute_reply.started": "2025-07-30T18:49:45.703460Z"
    }
   },
   "outputs": [
    {
     "data": {
      "text/plain": [
       "\"\\n#Checking how test data looks\\nfile_path = '/kaggle/input/cmi-detect-behavior-with-sensor-data/test.csv'\\n\\n# Reading the CSV file\\ndf_test_data = pd.read_csv(file_path)\\n\\n# Get number of rows in test data\\nnum_rows = df_test_data.shape[0]\\nprint('Number of row in test data = ', num_rows)\\n\\n# Display the first few rows of the dataframe, we will be doing this as checking step every step along the way\\ndf_test_data.head(5)\\n\\n# Investigating further I found thet data that goes into the predict function is different\\n\""
      ]
     },
     "execution_count": 3,
     "metadata": {},
     "output_type": "execute_result"
    }
   ],
   "source": [
    "'''\n",
    "#Checking how test data looks\n",
    "file_path = '/kaggle/input/cmi-detect-behavior-with-sensor-data/test.csv'\n",
    "\n",
    "# Reading the CSV file\n",
    "df_test_data = pd.read_csv(file_path)\n",
    "\n",
    "# Get number of rows in test data\n",
    "num_rows = df_test_data.shape[0]\n",
    "print('Number of row in test data = ', num_rows)\n",
    "\n",
    "# Display the first few rows of the dataframe, we will be doing this as checking step every step along the way\n",
    "df_test_data.head(5)\n",
    "\n",
    "# Investigating further I found thet data that goes into the predict function is different\n",
    "'''"
   ]
  },
  {
   "cell_type": "code",
   "execution_count": 4,
   "metadata": {
    "execution": {
     "iopub.execute_input": "2025-07-30T18:49:45.743423Z",
     "iopub.status.busy": "2025-07-30T18:49:45.742962Z",
     "iopub.status.idle": "2025-07-30T18:50:33.031835Z",
     "shell.execute_reply": "2025-07-30T18:50:33.030313Z",
     "shell.execute_reply.started": "2025-07-30T18:49:45.743385Z"
    }
   },
   "outputs": [
    {
     "data": {
      "text/html": [
       "<style>#sk-container-id-1 {color: black;background-color: white;}#sk-container-id-1 pre{padding: 0;}#sk-container-id-1 div.sk-toggleable {background-color: white;}#sk-container-id-1 label.sk-toggleable__label {cursor: pointer;display: block;width: 100%;margin-bottom: 0;padding: 0.3em;box-sizing: border-box;text-align: center;}#sk-container-id-1 label.sk-toggleable__label-arrow:before {content: \"▸\";float: left;margin-right: 0.25em;color: #696969;}#sk-container-id-1 label.sk-toggleable__label-arrow:hover:before {color: black;}#sk-container-id-1 div.sk-estimator:hover label.sk-toggleable__label-arrow:before {color: black;}#sk-container-id-1 div.sk-toggleable__content {max-height: 0;max-width: 0;overflow: hidden;text-align: left;background-color: #f0f8ff;}#sk-container-id-1 div.sk-toggleable__content pre {margin: 0.2em;color: black;border-radius: 0.25em;background-color: #f0f8ff;}#sk-container-id-1 input.sk-toggleable__control:checked~div.sk-toggleable__content {max-height: 200px;max-width: 100%;overflow: auto;}#sk-container-id-1 input.sk-toggleable__control:checked~label.sk-toggleable__label-arrow:before {content: \"▾\";}#sk-container-id-1 div.sk-estimator input.sk-toggleable__control:checked~label.sk-toggleable__label {background-color: #d4ebff;}#sk-container-id-1 div.sk-label input.sk-toggleable__control:checked~label.sk-toggleable__label {background-color: #d4ebff;}#sk-container-id-1 input.sk-hidden--visually {border: 0;clip: rect(1px 1px 1px 1px);clip: rect(1px, 1px, 1px, 1px);height: 1px;margin: -1px;overflow: hidden;padding: 0;position: absolute;width: 1px;}#sk-container-id-1 div.sk-estimator {font-family: monospace;background-color: #f0f8ff;border: 1px dotted black;border-radius: 0.25em;box-sizing: border-box;margin-bottom: 0.5em;}#sk-container-id-1 div.sk-estimator:hover {background-color: #d4ebff;}#sk-container-id-1 div.sk-parallel-item::after {content: \"\";width: 100%;border-bottom: 1px solid gray;flex-grow: 1;}#sk-container-id-1 div.sk-label:hover label.sk-toggleable__label {background-color: #d4ebff;}#sk-container-id-1 div.sk-serial::before {content: \"\";position: absolute;border-left: 1px solid gray;box-sizing: border-box;top: 0;bottom: 0;left: 50%;z-index: 0;}#sk-container-id-1 div.sk-serial {display: flex;flex-direction: column;align-items: center;background-color: white;padding-right: 0.2em;padding-left: 0.2em;position: relative;}#sk-container-id-1 div.sk-item {position: relative;z-index: 1;}#sk-container-id-1 div.sk-parallel {display: flex;align-items: stretch;justify-content: center;background-color: white;position: relative;}#sk-container-id-1 div.sk-item::before, #sk-container-id-1 div.sk-parallel-item::before {content: \"\";position: absolute;border-left: 1px solid gray;box-sizing: border-box;top: 0;bottom: 0;left: 50%;z-index: -1;}#sk-container-id-1 div.sk-parallel-item {display: flex;flex-direction: column;z-index: 1;position: relative;background-color: white;}#sk-container-id-1 div.sk-parallel-item:first-child::after {align-self: flex-end;width: 50%;}#sk-container-id-1 div.sk-parallel-item:last-child::after {align-self: flex-start;width: 50%;}#sk-container-id-1 div.sk-parallel-item:only-child::after {width: 0;}#sk-container-id-1 div.sk-dashed-wrapped {border: 1px dashed gray;margin: 0 0.4em 0.5em 0.4em;box-sizing: border-box;padding-bottom: 0.4em;background-color: white;}#sk-container-id-1 div.sk-label label {font-family: monospace;font-weight: bold;display: inline-block;line-height: 1.2em;}#sk-container-id-1 div.sk-label-container {text-align: center;}#sk-container-id-1 div.sk-container {/* jupyter's `normalize.less` sets `[hidden] { display: none; }` but bootstrap.min.css set `[hidden] { display: none !important; }` so we also need the `!important` here to be able to override the default hidden behavior on the sphinx rendered scikit-learn.org. See: https://github.com/scikit-learn/scikit-learn/issues/21755 */display: inline-block !important;position: relative;}#sk-container-id-1 div.sk-text-repr-fallback {display: none;}</style><div id=\"sk-container-id-1\" class=\"sk-top-container\"><div class=\"sk-text-repr-fallback\"><pre>KNeighborsClassifier()</pre><b>In a Jupyter environment, please rerun this cell to show the HTML representation or trust the notebook. <br />On GitHub, the HTML representation is unable to render, please try loading this page with nbviewer.org.</b></div><div class=\"sk-container\" hidden><div class=\"sk-item\"><div class=\"sk-estimator sk-toggleable\"><input class=\"sk-toggleable__control sk-hidden--visually\" id=\"sk-estimator-id-1\" type=\"checkbox\" checked><label for=\"sk-estimator-id-1\" class=\"sk-toggleable__label sk-toggleable__label-arrow\">KNeighborsClassifier</label><div class=\"sk-toggleable__content\"><pre>KNeighborsClassifier()</pre></div></div></div></div></div>"
      ],
      "text/plain": [
       "KNeighborsClassifier()"
      ]
     },
     "execution_count": 4,
     "metadata": {},
     "output_type": "execute_result"
    }
   ],
   "source": [
    "# Making the Model\n",
    "    \n",
    "# Loading the CSV file\n",
    "file_path = '/kaggle/input/cmi-detect-behavior-with-sensor-data/train.csv'\n",
    "   \n",
    "# Reading the CSV file\n",
    "df_original_data = pd.read_csv(file_path)\n",
    "\n",
    "# Display the first few rows of the dataframe, we will be doing this as checking step every step along the way\n",
    "#df_original_data.head()\n",
    "\n",
    "# Checking number of null values in each column\n",
    "#df_original_data.isnull().sum()\n",
    "\n",
    "# Defining feature and target\n",
    "A = df_original_data.iloc[:, 9:].values\n",
    "b = df_original_data.iloc[:, 8].values\n",
    "\n",
    "#print(A)\n",
    "#print(b)\n",
    "\n",
    "# Now the feature column has some null values - imputing them with a constant value Zero    \n",
    "# Replace NaNs with 0\n",
    "A = df_original_data.iloc[:, 9:].values\n",
    "A = np.nan_to_num(A, nan=0)\n",
    "#print(A[:5])  # Display first 5 rows\n",
    "\n",
    "# Scaling\n",
    "from sklearn.preprocessing import StandardScaler\n",
    "sc = StandardScaler()\n",
    "A_train_s = sc.fit_transform(A)\n",
    "\n",
    "# Instead of test train split, using whole of the data to train our model.\n",
    "\n",
    "# Fitting KNN to the training set\n",
    "\n",
    "from sklearn.neighbors import KNeighborsClassifier\n",
    "classifier = KNeighborsClassifier(n_neighbors = 5, metric = 'minkowski', p = 2)\n",
    "classifier.fit(A_train_s, b)"
   ]
  },
  {
   "cell_type": "code",
   "execution_count": 5,
   "metadata": {
    "execution": {
     "iopub.execute_input": "2025-07-30T18:50:33.034083Z",
     "iopub.status.busy": "2025-07-30T18:50:33.033721Z",
     "iopub.status.idle": "2025-07-30T18:50:33.043582Z",
     "shell.execute_reply": "2025-07-30T18:50:33.042036Z",
     "shell.execute_reply.started": "2025-07-30T18:50:33.034056Z"
    }
   },
   "outputs": [],
   "source": [
    "# Here first row from test data is taken and prediction returned, \n",
    "# the second time the funtion is called the second row of test data is taken and prediction returned and so on.\n",
    "\n",
    "# Global counter to keep track of which test row to use\n",
    "current_test_index = 0\n",
    "program_terminate = 0\n",
    "\n",
    "def predict(sequence: pl.DataFrame, demographics: pl.DataFrame) -> str:\n",
    "    global current_test_index\n",
    "    global program_terminate\n",
    "\n",
    "    # Code block for when the funtion reaches the end of test data\n",
    "    #print('Number of row in test data =', len(sequence)) \n",
    "    # Sneaky little program is using two sequences one of 51 lenght and the other 56 length\n",
    "    if current_test_index >= len(sequence):\n",
    "        print(\"Reached end of test data.\")\n",
    "        program_terminate = 1\n",
    "        return 'Cheek - pinch skin' # Dummy return - will reduce accuracy / score a bit, oh well.\n",
    "\n",
    "\n",
    "    # Importing the testing data \n",
    "    # Convert Polars DataFrame to Pandas \n",
    "    df_original_test_data = sequence.to_pandas()\n",
    "\n",
    "    # Display the first few rows of the dataframe, we will be doing this as checking step every step along the way\n",
    "    #df_original_test_data.head()\n",
    "\n",
    "    #print(current_test_index)\n",
    "    \n",
    "    # Only taking needed columns from test data, and the needed row\n",
    "    original_test_data = df_original_test_data.iloc[current_test_index, 4:].values\n",
    "\n",
    "    # To show current row_id, sequence_id, sequence_counter data being tested out.\n",
    "    row_id = df_original_test_data['row_id'].iloc[current_test_index]\n",
    "    sequence_id = df_original_test_data['sequence_id'].iloc[current_test_index]\n",
    "    sequence_counter = df_original_test_data['sequence_counter'].iloc[current_test_index]\n",
    "    #print(row_id, \",\", sequence_id, \",\", sequence_counter) \n",
    "    \n",
    "    current_test_index += 1 # To update the row value, when the funtion is called next time\n",
    "    \n",
    "    # Reshape is done coz above code gives a 1D shape while the input for next is a 2D shape, just a small tweak.\n",
    "    original_test_data = original_test_data.reshape(1, -1)\n",
    "    #print(original_test_data)\n",
    "\n",
    "    # Predicting the test set - results\n",
    "    y_pred = classifier.predict(original_test_data)\n",
    "    #print(y_pred)\n",
    "\n",
    "    y_pred_string = str(y_pred[0]) # Converting the return value to a string.\n",
    "    #print(y_pred_string)\n",
    "    #print(sequence_id, y_pred_string)\n",
    "    print(row_id, \",\", sequence_id, \",\", sequence_counter, \",\", y_pred_string)\n",
    "    \n",
    "    #print('Checkpoint 1 ~ Akash')\n",
    "    return y_pred_string\n",
    "\n",
    "    # ~ End of code."
   ]
  },
  {
   "cell_type": "code",
   "execution_count": 6,
   "metadata": {
    "execution": {
     "iopub.execute_input": "2025-07-30T18:50:33.045282Z",
     "iopub.status.busy": "2025-07-30T18:50:33.044857Z",
     "iopub.status.idle": "2025-07-30T18:50:33.081845Z",
     "shell.execute_reply": "2025-07-30T18:50:33.080492Z",
     "shell.execute_reply.started": "2025-07-30T18:50:33.045248Z"
    }
   },
   "outputs": [
    {
     "data": {
      "text/plain": [
       "\"\\ninference_server = kaggle_evaluation.cmi_inference_server.CMIInferenceServer(predict)\\n\\nif os.getenv('KAGGLE_IS_COMPETITION_RERUN'):\\n    inference_server.serve()\\nelse:\\n    inference_server.run_local_gateway(\\n        data_paths=(\\n            '/kaggle/input/cmi-detect-behavior-with-sensor-data/test.csv',\\n            '/kaggle/input/cmi-detect-behavior-with-sensor-data/test_demographics.csv',\\n        )\\n    )\\n\""
      ]
     },
     "execution_count": 6,
     "metadata": {},
     "output_type": "execute_result"
    }
   ],
   "source": [
    "'''\n",
    "inference_server = kaggle_evaluation.cmi_inference_server.CMIInferenceServer(predict)\n",
    "\n",
    "if os.getenv('KAGGLE_IS_COMPETITION_RERUN'):\n",
    "    inference_server.serve()\n",
    "else:\n",
    "    inference_server.run_local_gateway(\n",
    "        data_paths=(\n",
    "            '/kaggle/input/cmi-detect-behavior-with-sensor-data/test.csv',\n",
    "            '/kaggle/input/cmi-detect-behavior-with-sensor-data/test_demographics.csv',\n",
    "        )\n",
    "    )\n",
    "'''"
   ]
  },
  {
   "cell_type": "code",
   "execution_count": 7,
   "metadata": {
    "execution": {
     "iopub.execute_input": "2025-07-30T18:50:33.084346Z",
     "iopub.status.busy": "2025-07-30T18:50:33.084032Z",
     "iopub.status.idle": "2025-07-30T18:51:16.907607Z",
     "shell.execute_reply": "2025-07-30T18:51:16.906304Z",
     "shell.execute_reply.started": "2025-07-30T18:50:33.084322Z"
    }
   },
   "outputs": [
    {
     "name": "stdout",
     "output_type": "stream",
     "text": [
      "row_id, sequence_id, sequence_counter, gesture prediction\n",
      "SEQ_000001_000000 , SEQ_000001 , 0 , Wave hello\n",
      "SEQ_000011_000001 , SEQ_000011 , 1 , Pull air toward your face\n",
      "SEQ_000001_000002 , SEQ_000001 , 2 , Wave hello\n",
      "SEQ_000011_000003 , SEQ_000011 , 3 , Text on phone\n",
      "SEQ_000011_000004 , SEQ_000011 , 4 , Text on phone\n",
      "SEQ_000001_000005 , SEQ_000001 , 5 , Wave hello\n",
      "SEQ_000011_000006 , SEQ_000011 , 6 , Text on phone\n",
      "SEQ_000001_000007 , SEQ_000001 , 7 , Wave hello\n",
      "SEQ_000011_000008 , SEQ_000011 , 8 , Text on phone\n",
      "SEQ_000001_000009 , SEQ_000001 , 9 , Cheek - pinch skin\n",
      "SEQ_000011_000010 , SEQ_000011 , 10 , Pull air toward your face\n",
      "SEQ_000001_000011 , SEQ_000001 , 11 , Wave hello\n",
      "SEQ_000001_000012 , SEQ_000001 , 12 , Wave hello\n",
      "SEQ_000011_000013 , SEQ_000011 , 13 , Cheek - pinch skin\n",
      "SEQ_000011_000014 , SEQ_000011 , 14 , Wave hello\n",
      "SEQ_000001_000015 , SEQ_000001 , 15 , Cheek - pinch skin\n",
      "SEQ_000001_000016 , SEQ_000001 , 16 , Cheek - pinch skin\n",
      "SEQ_000011_000017 , SEQ_000011 , 17 , Cheek - pinch skin\n",
      "SEQ_000001_000018 , SEQ_000001 , 18 , Cheek - pinch skin\n",
      "SEQ_000011_000019 , SEQ_000011 , 19 , Wave hello\n",
      "SEQ_000011_000020 , SEQ_000011 , 20 , Wave hello\n",
      "SEQ_000001_000021 , SEQ_000001 , 21 , Cheek - pinch skin\n",
      "SEQ_000001_000022 , SEQ_000001 , 22 , Cheek - pinch skin\n",
      "SEQ_000011_000023 , SEQ_000011 , 23 , Pull air toward your face\n",
      "SEQ_000011_000024 , SEQ_000011 , 24 , Pull air toward your face\n",
      "SEQ_000001_000025 , SEQ_000001 , 25 , Cheek - pinch skin\n",
      "SEQ_000011_000026 , SEQ_000011 , 26 , Forehead - pull hairline\n",
      "SEQ_000001_000027 , SEQ_000001 , 27 , Cheek - pinch skin\n",
      "SEQ_000001_000028 , SEQ_000001 , 28 , Cheek - pinch skin\n",
      "SEQ_000011_000029 , SEQ_000011 , 29 , Forehead - pull hairline\n",
      "SEQ_000011_000030 , SEQ_000011 , 30 , Write name in air\n",
      "SEQ_000001_000031 , SEQ_000001 , 31 , Cheek - pinch skin\n",
      "SEQ_000001_000032 , SEQ_000001 , 32 , Cheek - pinch skin\n",
      "SEQ_000011_000033 , SEQ_000011 , 33 , Pull air toward your face\n",
      "SEQ_000011_000034 , SEQ_000011 , 34 , Forehead - pull hairline\n",
      "SEQ_000001_000035 , SEQ_000001 , 35 , Cheek - pinch skin\n",
      "SEQ_000001_000036 , SEQ_000001 , 36 , Cheek - pinch skin\n",
      "SEQ_000011_000037 , SEQ_000011 , 37 , Forehead - pull hairline\n",
      "SEQ_000001_000038 , SEQ_000001 , 38 , Cheek - pinch skin\n",
      "SEQ_000011_000039 , SEQ_000011 , 39 , Pull air toward your face\n",
      "SEQ_000001_000040 , SEQ_000001 , 40 , Cheek - pinch skin\n",
      "SEQ_000011_000041 , SEQ_000011 , 41 , Forehead - pull hairline\n",
      "SEQ_000001_000042 , SEQ_000001 , 42 , Cheek - pinch skin\n",
      "SEQ_000011_000043 , SEQ_000011 , 43 , Forehead - pull hairline\n",
      "SEQ_000011_000044 , SEQ_000011 , 44 , Forehead - pull hairline\n",
      "SEQ_000001_000045 , SEQ_000001 , 45 , Cheek - pinch skin\n",
      "SEQ_000001_000046 , SEQ_000001 , 46 , Cheek - pinch skin\n",
      "SEQ_000011_000047 , SEQ_000011 , 47 , Forehead - pull hairline\n",
      "SEQ_000001_000048 , SEQ_000001 , 48 , Neck - scratch\n",
      "SEQ_000011_000049 , SEQ_000011 , 49 , Forehead - pull hairline\n",
      "SEQ_000011_000050 , SEQ_000011 , 50 , Pull air toward your face\n",
      "SEQ_000001_000051 , SEQ_000001 , 51 , Neck - scratch\n",
      "SEQ_000001_000052 , SEQ_000001 , 52 , Pull air toward your face\n",
      "Reached end of test data.\n"
     ]
    }
   ],
   "source": [
    "print('row_id, sequence_id, sequence_counter, gesture prediction')\n",
    "\n",
    "# Call predict() for each row\n",
    "for i in range(200): \n",
    "    #print('Loop number = ', i)\n",
    "\n",
    "    if program_terminate == 1:\n",
    "        break\n",
    "        \n",
    "    inference_server = kaggle_evaluation.cmi_inference_server.CMIInferenceServer(predict)\n",
    "    if os.getenv('KAGGLE_IS_COMPETITION_RERUN'):\n",
    "        print('Checkpoint 2 ~ Akash')\n",
    "        inference_server.serve()\n",
    "    else:\n",
    "        #print('Checkpoint 2.5 ~ Akash')\n",
    "        inference_server.run_local_gateway(\n",
    "            data_paths=(\n",
    "                '/kaggle/input/cmi-detect-behavior-with-sensor-data/test.csv',\n",
    "                '/kaggle/input/cmi-detect-behavior-with-sensor-data/test_demographics.csv',\n",
    "            )\n",
    "        )\n",
    "    #print('Checkpoint 3 ~ Akash')"
   ]
  },
  {
   "cell_type": "code",
   "execution_count": null,
   "metadata": {},
   "outputs": [],
   "source": []
  }
 ],
 "metadata": {
  "kaggle": {
   "accelerator": "none",
   "dataSources": [
    {
     "databundleVersionId": 12518947,
     "sourceId": 102335,
     "sourceType": "competition"
    }
   ],
   "dockerImageVersionId": 31040,
   "isGpuEnabled": false,
   "isInternetEnabled": false,
   "language": "python",
   "sourceType": "notebook"
  },
  "kernelspec": {
   "display_name": "Python 3 (ipykernel)",
   "language": "python",
   "name": "python3"
  },
  "language_info": {
   "codemirror_mode": {
    "name": "ipython",
    "version": 3
   },
   "file_extension": ".py",
   "mimetype": "text/x-python",
   "name": "python",
   "nbconvert_exporter": "python",
   "pygments_lexer": "ipython3",
   "version": "3.12.4"
  }
 },
 "nbformat": 4,
 "nbformat_minor": 4
}
