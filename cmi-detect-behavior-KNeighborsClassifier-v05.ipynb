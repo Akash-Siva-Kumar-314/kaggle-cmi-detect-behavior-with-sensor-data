{
 "cells": [
  {
   "cell_type": "code",
   "execution_count": 1,
   "id": "58279695-810f-4c39-bc15-c1c5ec0a543a",
   "metadata": {},
   "outputs": [],
   "source": [
    "# Importing needed libraries\n",
    "import numpy as np\n",
    "import pandas as pd\n",
    "import sklearn as sk"
   ]
  },
  {
   "cell_type": "code",
   "execution_count": 2,
   "id": "0ab6233a-762c-4520-9b48-f2c30239d52b",
   "metadata": {},
   "outputs": [],
   "source": [
    "# Using a funtion to contain our code snippet\n",
    "def predict():  \n",
    "    # Loading the CSV file\n",
    "    file_path = 'D:/kaggle-cmi-detect-behavior-with-sensor-data/cmi-detect-behavior-with-sensor-data/train.csv'\n",
    "\n",
    "    # Reading the CSV file\n",
    "    df_original_data = pd.read_csv(file_path)\n",
    "\n",
    "    # Display the first few rows of the dataframe, we will be doing this as checking step every step along the way\n",
    "    #df_original_data.head()\n",
    "\n",
    "    # Checking number of null values in each column\n",
    "    #df_original_data.isnull().sum()\n",
    "\n",
    "    # Defining feature and target\n",
    "    A = df_original_data.iloc[:, 9:].values\n",
    "    b = df_original_data.iloc[:, 8].values\n",
    "\n",
    "    #print(A)\n",
    "    #print(b)\n",
    "\n",
    "    # Now the feature column has some null values - imputing them with a constant value Zero    \n",
    "    # Replace NaNs with 0\n",
    "    A = df_original_data.iloc[:, 9:].values\n",
    "    A = np.nan_to_num(A, nan=0)\n",
    "    #print(A[:5])  # Display first 5 rows\n",
    "\n",
    "    # Scaling\n",
    "    from sklearn.preprocessing import StandardScaler\n",
    "    sc = StandardScaler()\n",
    "    A_train_s = sc.fit_transform(A)\n",
    "\n",
    "    # Instead of test train split, using whole of the data to train our model.\n",
    "\n",
    "    # Fitting KNN to the training set\n",
    "\n",
    "    from sklearn.neighbors import KNeighborsClassifier\n",
    "    classifier = KNeighborsClassifier(n_neighbors = 5, metric = 'minkowski', p = 2)\n",
    "    classifier.fit(A_train_s, b)\n",
    "\n",
    "    # Importing the testing data \n",
    "\n",
    "    # Loading the CSV file\n",
    "    file_path_test = 'D:/kaggle-cmi-detect-behavior-with-sensor-data/cmi-detect-behavior-with-sensor-data/test.csv'\n",
    "\n",
    "    # Reading the CSV file\n",
    "    df_original_test_data = pd.read_csv(file_path_test)\n",
    "\n",
    "    # Display the first few rows of the dataframe, we will be doing this as checking step every step along the way\n",
    "    #df_original_test_data.head()\n",
    "\n",
    "    # Only taking needed columns from test data\n",
    "    original_test_data = df_original_test_data.iloc[:, 4:].values\n",
    "    #print(original_test_data)\n",
    "\n",
    "    # Predicting the test set - results\n",
    "    y_pred = classifier.predict(original_test_data)\n",
    "    #print(y_pred)\n",
    "\n",
    "    return y_pred\n",
    "\n",
    "    # ~ End of code."
   ]
  },
  {
   "cell_type": "code",
   "execution_count": 3,
   "id": "905b2148-d919-4d88-ba4d-9df3bf5510fb",
   "metadata": {},
   "outputs": [
    {
     "data": {
      "text/plain": [
       "array(['Wave hello', 'Wave hello', 'Wave hello', 'Wave hello',\n",
       "       'Wave hello', 'Wave hello', 'Wave hello', 'Wave hello',\n",
       "       'Wave hello', 'Cheek - pinch skin', 'Wave hello', 'Wave hello',\n",
       "       'Wave hello', 'Wave hello', 'Cheek - pinch skin',\n",
       "       'Cheek - pinch skin', 'Cheek - pinch skin', 'Cheek - pinch skin',\n",
       "       'Cheek - pinch skin', 'Cheek - pinch skin', 'Cheek - pinch skin',\n",
       "       'Cheek - pinch skin', 'Cheek - pinch skin', 'Cheek - pinch skin',\n",
       "       'Cheek - pinch skin', 'Cheek - pinch skin', 'Cheek - pinch skin',\n",
       "       'Cheek - pinch skin', 'Cheek - pinch skin', 'Cheek - pinch skin',\n",
       "       'Cheek - pinch skin', 'Cheek - pinch skin', 'Cheek - pinch skin',\n",
       "       'Cheek - pinch skin', 'Cheek - pinch skin', 'Cheek - pinch skin',\n",
       "       'Cheek - pinch skin', 'Cheek - pinch skin', 'Cheek - pinch skin',\n",
       "       'Cheek - pinch skin', 'Cheek - pinch skin', 'Cheek - pinch skin',\n",
       "       'Cheek - pinch skin', 'Cheek - pinch skin', 'Cheek - pinch skin',\n",
       "       'Cheek - pinch skin', 'Cheek - pinch skin',\n",
       "       'Pull air toward your face', 'Neck - scratch', 'Write name in air',\n",
       "       'Cheek - pinch skin', 'Neck - scratch',\n",
       "       'Pull air toward your face', 'Neck - scratch',\n",
       "       'Cheek - pinch skin', 'Cheek - pinch skin',\n",
       "       'Pull air toward your face', 'Pull air toward your face',\n",
       "       'Write name in air', 'Text on phone', 'Text on phone',\n",
       "       'Text on phone', 'Text on phone', 'Text on phone', 'Text on phone',\n",
       "       'Wave hello', 'Pull air toward your face', 'Write name in air',\n",
       "       'Write name in air', 'Cheek - pinch skin', 'Wave hello',\n",
       "       'Wave hello', 'Above ear - pull hair', 'Cheek - pinch skin',\n",
       "       'Wave hello', 'Wave hello', 'Wave hello',\n",
       "       'Pull air toward your face', 'Pull air toward your face',\n",
       "       'Pull air toward your face', 'Pull air toward your face',\n",
       "       'Pull air toward your face', 'Forehead - pull hairline',\n",
       "       'Forehead - pull hairline', 'Forehead - pull hairline',\n",
       "       'Forehead - pull hairline', 'Write name in air',\n",
       "       'Forehead - pull hairline', 'Forehead - pull hairline',\n",
       "       'Pull air toward your face', 'Forehead - pull hairline',\n",
       "       'Forehead - pull hairline', 'Pull air toward your face',\n",
       "       'Forehead - pull hairline', 'Forehead - pull hairline',\n",
       "       'Pull air toward your face', 'Forehead - pull hairline',\n",
       "       'Forehead - pull hairline', 'Forehead - pull hairline',\n",
       "       'Forehead - pull hairline', 'Forehead - pull hairline',\n",
       "       'Forehead - pull hairline', 'Forehead - pull hairline',\n",
       "       'Forehead - pull hairline', 'Pull air toward your face',\n",
       "       'Forehead - pull hairline', 'Pull air toward your face'],\n",
       "      dtype=object)"
      ]
     },
     "execution_count": 3,
     "metadata": {},
     "output_type": "execute_result"
    }
   ],
   "source": [
    "predict()"
   ]
  },
  {
   "cell_type": "code",
   "execution_count": 4,
   "id": "28a31d9f-e91c-4c23-a5fa-390e7f0586c2",
   "metadata": {},
   "outputs": [
    {
     "name": "stdout",
     "output_type": "stream",
     "text": [
      "['Wave hello' 'Wave hello' 'Wave hello' 'Wave hello' 'Wave hello'\n",
      " 'Wave hello' 'Wave hello' 'Wave hello' 'Wave hello' 'Cheek - pinch skin'\n",
      " 'Wave hello' 'Wave hello' 'Wave hello' 'Wave hello' 'Cheek - pinch skin'\n",
      " 'Cheek - pinch skin' 'Cheek - pinch skin' 'Cheek - pinch skin'\n",
      " 'Cheek - pinch skin' 'Cheek - pinch skin' 'Cheek - pinch skin'\n",
      " 'Cheek - pinch skin' 'Cheek - pinch skin' 'Cheek - pinch skin'\n",
      " 'Cheek - pinch skin' 'Cheek - pinch skin' 'Cheek - pinch skin'\n",
      " 'Cheek - pinch skin' 'Cheek - pinch skin' 'Cheek - pinch skin'\n",
      " 'Cheek - pinch skin' 'Cheek - pinch skin' 'Cheek - pinch skin'\n",
      " 'Cheek - pinch skin' 'Cheek - pinch skin' 'Cheek - pinch skin'\n",
      " 'Cheek - pinch skin' 'Cheek - pinch skin' 'Cheek - pinch skin'\n",
      " 'Cheek - pinch skin' 'Cheek - pinch skin' 'Cheek - pinch skin'\n",
      " 'Cheek - pinch skin' 'Cheek - pinch skin' 'Cheek - pinch skin'\n",
      " 'Cheek - pinch skin' 'Cheek - pinch skin' 'Pull air toward your face'\n",
      " 'Neck - scratch' 'Write name in air' 'Cheek - pinch skin'\n",
      " 'Neck - scratch' 'Pull air toward your face' 'Neck - scratch'\n",
      " 'Cheek - pinch skin' 'Cheek - pinch skin' 'Pull air toward your face'\n",
      " 'Pull air toward your face' 'Write name in air' 'Text on phone'\n",
      " 'Text on phone' 'Text on phone' 'Text on phone' 'Text on phone'\n",
      " 'Text on phone' 'Wave hello' 'Pull air toward your face'\n",
      " 'Write name in air' 'Write name in air' 'Cheek - pinch skin' 'Wave hello'\n",
      " 'Wave hello' 'Above ear - pull hair' 'Cheek - pinch skin' 'Wave hello'\n",
      " 'Wave hello' 'Wave hello' 'Pull air toward your face'\n",
      " 'Pull air toward your face' 'Pull air toward your face'\n",
      " 'Pull air toward your face' 'Pull air toward your face'\n",
      " 'Forehead - pull hairline' 'Forehead - pull hairline'\n",
      " 'Forehead - pull hairline' 'Forehead - pull hairline' 'Write name in air'\n",
      " 'Forehead - pull hairline' 'Forehead - pull hairline'\n",
      " 'Pull air toward your face' 'Forehead - pull hairline'\n",
      " 'Forehead - pull hairline' 'Pull air toward your face'\n",
      " 'Forehead - pull hairline' 'Forehead - pull hairline'\n",
      " 'Pull air toward your face' 'Forehead - pull hairline'\n",
      " 'Forehead - pull hairline' 'Forehead - pull hairline'\n",
      " 'Forehead - pull hairline' 'Forehead - pull hairline'\n",
      " 'Forehead - pull hairline' 'Forehead - pull hairline'\n",
      " 'Forehead - pull hairline' 'Pull air toward your face'\n",
      " 'Forehead - pull hairline' 'Pull air toward your face']\n"
     ]
    }
   ],
   "source": [
    "print(predict())"
   ]
  },
  {
   "cell_type": "code",
   "execution_count": 7,
   "id": "52bda24c-c20f-4531-9ff6-193ca23e0543",
   "metadata": {},
   "outputs": [],
   "source": [
    "# Here the return type is an Object array\n",
    "\n",
    "# However the competition needs the code/function to return one string out. Their server is set up such that they will give one input at a time, I think."
   ]
  },
  {
   "cell_type": "code",
   "execution_count": null,
   "id": "2be8994e-7387-4485-973b-227ae40de548",
   "metadata": {},
   "outputs": [],
   "source": []
  }
 ],
 "metadata": {
  "kernelspec": {
   "display_name": "Python 3 (ipykernel)",
   "language": "python",
   "name": "python3"
  },
  "language_info": {
   "codemirror_mode": {
    "name": "ipython",
    "version": 3
   },
   "file_extension": ".py",
   "mimetype": "text/x-python",
   "name": "python",
   "nbconvert_exporter": "python",
   "pygments_lexer": "ipython3",
   "version": "3.12.4"
  }
 },
 "nbformat": 4,
 "nbformat_minor": 5
}
