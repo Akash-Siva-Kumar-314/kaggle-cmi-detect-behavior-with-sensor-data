{
 "cells": [
  {
   "cell_type": "code",
   "execution_count": null,
   "metadata": {},
   "outputs": [],
   "source": [
    "# Now this is the code made for Kaggle environment, won't run in local.\n",
    "\n",
    "# Things to do: test data should be input through predict funtion parameters, y_pred make is a pandas dataframe"
   ]
  },
  {
   "cell_type": "code",
   "execution_count": 1,
   "metadata": {
    "_cell_guid": "b1076dfc-b9ad-4769-8c92-a6c4dae69d19",
    "_uuid": "8f2839f25d086af736a60e9eeb907d3b93b6e0e5",
    "execution": {
     "iopub.execute_input": "2025-07-28T00:16:04.626347Z",
     "iopub.status.busy": "2025-07-28T00:16:04.626141Z",
     "iopub.status.idle": "2025-07-28T00:16:07.851903Z",
     "shell.execute_reply": "2025-07-28T00:16:07.850967Z",
     "shell.execute_reply.started": "2025-07-28T00:16:04.626323Z"
    }
   },
   "outputs": [],
   "source": [
    "import os\n",
    "\n",
    "import pandas as pd\n",
    "import polars as pl\n",
    "\n",
    "import kaggle_evaluation.cmi_inference_server"
   ]
  },
  {
   "cell_type": "markdown",
   "metadata": {
    "execution": {
     "iopub.execute_input": "2025-05-29T22:29:18.956193Z",
     "iopub.status.busy": "2025-05-29T22:29:18.955791Z",
     "iopub.status.idle": "2025-05-29T22:29:18.965179Z",
     "shell.execute_reply": "2025-05-29T22:29:18.963797Z",
     "shell.execute_reply.started": "2025-05-29T22:29:18.956169Z"
    }
   },
   "source": [
    "The evaluation API requires that you set up a server which will respond to inference requests. We have already defined the server; you just need write the predict function. When we evaluate your submission on the hidden test set the client defined in the gateway will run in a different container with direct access to the hidden test set and hand off the one sequence at a time.\n",
    "\n",
    "Your code will always have access to the published copies of the files."
   ]
  },
  {
   "cell_type": "code",
   "execution_count": 2,
   "metadata": {
    "execution": {
     "iopub.execute_input": "2025-07-28T00:16:07.854412Z",
     "iopub.status.busy": "2025-07-28T00:16:07.854045Z",
     "iopub.status.idle": "2025-07-28T00:16:07.862162Z",
     "shell.execute_reply": "2025-07-28T00:16:07.861013Z",
     "shell.execute_reply.started": "2025-07-28T00:16:07.854390Z"
    }
   },
   "outputs": [
    {
     "data": {
      "text/plain": [
       "\"\\ndef predict(sequence: pl.DataFrame, demographics: pl.DataFrame) -> str:\\n    # Replace this function with your inference code.\\n    # You can return either a Pandas or Polars dataframe, though Polars is recommended.\\n    # Each prediction (except the very first) must be returned within 30 minutes of the batch features being provided.\\n    return 'Text on phone'\\n\""
      ]
     },
     "execution_count": 2,
     "metadata": {},
     "output_type": "execute_result"
    }
   ],
   "source": [
    "'''\n",
    "def predict(sequence: pl.DataFrame, demographics: pl.DataFrame) -> str:\n",
    "    # Replace this function with your inference code.\n",
    "    # You can return either a Pandas or Polars dataframe, though Polars is recommended.\n",
    "    # Each prediction (except the very first) must be returned within 30 minutes of the batch features being provided.\n",
    "    return 'Text on phone'\n",
    "'''"
   ]
  },
  {
   "cell_type": "code",
   "execution_count": 3,
   "metadata": {
    "execution": {
     "iopub.execute_input": "2025-07-28T00:16:07.863430Z",
     "iopub.status.busy": "2025-07-28T00:16:07.863121Z",
     "iopub.status.idle": "2025-07-28T00:16:08.530794Z",
     "shell.execute_reply": "2025-07-28T00:16:08.529858Z",
     "shell.execute_reply.started": "2025-07-28T00:16:07.863398Z"
    }
   },
   "outputs": [],
   "source": [
    "# Importing needed libraries\n",
    "import numpy as np\n",
    "import pandas as pd\n",
    "import sklearn as sk"
   ]
  },
  {
   "cell_type": "code",
   "execution_count": 4,
   "metadata": {
    "execution": {
     "iopub.execute_input": "2025-07-28T00:16:08.532276Z",
     "iopub.status.busy": "2025-07-28T00:16:08.531750Z",
     "iopub.status.idle": "2025-07-28T00:16:08.540618Z",
     "shell.execute_reply": "2025-07-28T00:16:08.539685Z",
     "shell.execute_reply.started": "2025-07-28T00:16:08.532214Z"
    }
   },
   "outputs": [],
   "source": [
    "def predict(sequence: pl.DataFrame, demographics: pl.DataFrame) -> str:\n",
    "    # Loading the CSV file\n",
    "    file_path = '/kaggle/input/cmi-detect-behavior-with-sensor-data/train.csv'\n",
    "    \n",
    "    # Reading the CSV file\n",
    "    df_original_data = pd.read_csv(file_path)\n",
    "\n",
    "    # Display the first few rows of the dataframe, we will be doing this as checking step every step along the way\n",
    "    #df_original_data.head()\n",
    "\n",
    "    # Checking number of null values in each column\n",
    "    #df_original_data.isnull().sum()\n",
    "\n",
    "    # Defining feature and target\n",
    "    A = df_original_data.iloc[:, 9:].values\n",
    "    b = df_original_data.iloc[:, 8].values\n",
    "\n",
    "    #print(A)\n",
    "    #print(b)\n",
    "\n",
    "    # Now the feature column has some null values - imputing them with a constant value Zero    \n",
    "    # Replace NaNs with 0\n",
    "    A = df_original_data.iloc[:, 9:].values\n",
    "    A = np.nan_to_num(A, nan=0)\n",
    "    #print(A[:5])  # Display first 5 rows\n",
    "\n",
    "    # Scaling\n",
    "    from sklearn.preprocessing import StandardScaler\n",
    "    sc = StandardScaler()\n",
    "    A_train_s = sc.fit_transform(A)\n",
    "\n",
    "    # Instead of test train split, using whole of the data to train our model.\n",
    "\n",
    "    # Fitting KNN to the training set\n",
    "\n",
    "    from sklearn.neighbors import KNeighborsClassifier\n",
    "    classifier = KNeighborsClassifier(n_neighbors = 5, metric = 'minkowski', p = 2)\n",
    "    classifier.fit(A_train_s, b)\n",
    "\n",
    "    # Importing the testing data \n",
    "\n",
    "    # Loading the CSV file\n",
    "    file_path_test = '/kaggle/input/cmi-detect-behavior-with-sensor-data/test.csv'\n",
    "    \n",
    "    # Reading the CSV file\n",
    "    df_original_test_data = pd.read_csv(file_path_test)\n",
    "\n",
    "    # Display the first few rows of the dataframe, we will be doing this as checking step every step along the way\n",
    "    #df_original_test_data.head()\n",
    "\n",
    "    # Only taking needed columns from test data\n",
    "    original_test_data = df_original_test_data.iloc[:, 4:].values\n",
    "    #print(original_test_data)\n",
    "\n",
    "    # Predicting the test set - results\n",
    "    y_pred = classifier.predict(original_test_data)\n",
    "    #print(y_pred)\n",
    "\n",
    "    y_pred_string = str(y_pred[0]) # Converting the return value to a string.\n",
    "\n",
    "    print('Checkpoint 1 ~ Akash')\n",
    "    print(y_pred_string)\n",
    "    return y_pred_string\n",
    "\n",
    "    # ~ End of code."
   ]
  },
  {
   "cell_type": "code",
   "execution_count": 5,
   "metadata": {
    "execution": {
     "iopub.execute_input": "2025-07-28T00:16:08.542063Z",
     "iopub.status.busy": "2025-07-28T00:16:08.541710Z",
     "iopub.status.idle": "2025-07-28T00:17:30.091610Z",
     "shell.execute_reply": "2025-07-28T00:17:30.090531Z",
     "shell.execute_reply.started": "2025-07-28T00:16:08.542031Z"
    }
   },
   "outputs": [
    {
     "name": "stdout",
     "output_type": "stream",
     "text": [
      "Checkpoint 2.5 ~ Akash\n",
      "Checkpoint 1 ~ Akash\n",
      "Wave hello\n",
      "Checkpoint 1 ~ Akash\n",
      "Wave hello\n",
      "Checkpoint 3 ~ Akash\n"
     ]
    }
   ],
   "source": [
    "inference_server = kaggle_evaluation.cmi_inference_server.CMIInferenceServer(predict)\n",
    "\n",
    "if os.getenv('KAGGLE_IS_COMPETITION_RERUN'):\n",
    "    print('Checkpoint 2 ~ Akash')\n",
    "    inference_server.serve()\n",
    "else:\n",
    "    print('Checkpoint 2.5 ~ Akash')\n",
    "    inference_server.run_local_gateway(\n",
    "        data_paths=(\n",
    "            '/kaggle/input/cmi-detect-behavior-with-sensor-data/test.csv',\n",
    "            '/kaggle/input/cmi-detect-behavior-with-sensor-data/test_demographics.csv',\n",
    "        )\n",
    "    )\n",
    "\n",
    "print('Checkpoint 3 ~ Akash')"
   ]
  },
  {
   "cell_type": "code",
   "execution_count": null,
   "metadata": {},
   "outputs": [],
   "source": []
  }
 ],
 "metadata": {
  "kaggle": {
   "accelerator": "none",
   "dataSources": [
    {
     "databundleVersionId": 12518947,
     "sourceId": 102335,
     "sourceType": "competition"
    }
   ],
   "dockerImageVersionId": 31040,
   "isGpuEnabled": false,
   "isInternetEnabled": false,
   "language": "python",
   "sourceType": "notebook"
  },
  "kernelspec": {
   "display_name": "Python 3 (ipykernel)",
   "language": "python",
   "name": "python3"
  },
  "language_info": {
   "codemirror_mode": {
    "name": "ipython",
    "version": 3
   },
   "file_extension": ".py",
   "mimetype": "text/x-python",
   "name": "python",
   "nbconvert_exporter": "python",
   "pygments_lexer": "ipython3",
   "version": "3.12.4"
  }
 },
 "nbformat": 4,
 "nbformat_minor": 4
}
